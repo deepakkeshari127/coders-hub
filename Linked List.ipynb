{
 "cells": [
  {
   "cell_type": "markdown",
   "metadata": {},
   "source": [
    "## Insert at the begining of the linked list "
   ]
  },
  {
   "cell_type": "code",
   "execution_count": 17,
   "metadata": {},
   "outputs": [],
   "source": [
    "class Node:\n",
    "    def __init__(self,data=None,next = None):\n",
    "        self.data = data\n",
    "        self.next = next\n",
    "class LinkedList:\n",
    "    def __init__(self):\n",
    "        self.head = None\n",
    "    def insert_at_begining(self,data):\n",
    "        node = Node(data,self.head)\n",
    "        self.head = node\n",
    "    def print(self):\n",
    "        if self.head is None:\n",
    "            print(\"HEAD IS EMPTY\")\n",
    "            return\n",
    "        itr = self.head\n",
    "        listr  = ''\n",
    "        \n",
    "        while itr:\n",
    "            listr += str(itr.data)+'-->'\n",
    "            itr = itr.next\n",
    "        print(listr)\n",
    "            \n",
    "            \n",
    "        "
   ]
  },
  {
   "cell_type": "code",
   "execution_count": 18,
   "metadata": {},
   "outputs": [
    {
     "name": "stdout",
     "output_type": "stream",
     "text": [
      "5-->3-->\n"
     ]
    }
   ],
   "source": [
    "if __name__ == '__main__':\n",
    "    ll = LinkedList()\n",
    "    ll.insert_at_begining(3)\n",
    "    ll.insert_at_begining(5)\n",
    "    ll.print()"
   ]
  },
  {
   "cell_type": "markdown",
   "metadata": {},
   "source": [
    "## Insert at the end and the begining of linked list"
   ]
  },
  {
   "cell_type": "code",
   "execution_count": 1,
   "metadata": {},
   "outputs": [],
   "source": [
    "class Node:\n",
    "    def __init__(self,data = None, next = None):\n",
    "        self.data = data\n",
    "        self.next = next\n",
    "class LinkedList:\n",
    "    def __init__(self):\n",
    "        self.head = None\n",
    "    def insert_at_begining(self,data):\n",
    "        node = Node(data,self.head)\n",
    "        self.head = node\n",
    "    def insert_at_end(self,data):\n",
    "        node = Node(data)\n",
    "        \n",
    "        if self.head is  None:\n",
    "            self.head = node\n",
    "        \n",
    "        last = self.head\n",
    "        while(last.next):\n",
    "            last = last.next\n",
    "        last.next = node\n",
    "            \n",
    "        \n",
    "        \n",
    "        \n",
    "    def print(self):\n",
    "        itr = self.head\n",
    "        listr  = ''\n",
    "        \n",
    "        while itr:\n",
    "            listr += str(itr.data)+'-->'\n",
    "            itr = itr.next\n",
    "        print(listr)\n",
    "            \n",
    "        \n",
    "    "
   ]
  },
  {
   "cell_type": "code",
   "execution_count": 2,
   "metadata": {},
   "outputs": [
    {
     "name": "stdout",
     "output_type": "stream",
     "text": [
      "7-->5-->3-->4-->8-->2-->\n"
     ]
    }
   ],
   "source": [
    "if __name__ == '__main__':\n",
    "    ll = LinkedList()\n",
    "    ll.insert_at_begining(3)\n",
    "    ll.insert_at_begining(5)\n",
    "    ll.insert_at_end(4)\n",
    "    ll.insert_at_end(8)\n",
    "    ll.insert_at_begining(7)\n",
    "    ll.insert_at_end(2)\n",
    "    ll.print()"
   ]
  },
  {
   "cell_type": "markdown",
   "metadata": {},
   "source": [
    "## insert a node after a given node"
   ]
  },
  {
   "cell_type": "code",
   "execution_count": 3,
   "metadata": {},
   "outputs": [],
   "source": [
    "class Node:\n",
    "    def __init__(self,data = None,next = None):\n",
    "        self.data = data\n",
    "        self.next = next\n",
    "class LinkedList:\n",
    "    def __init__(self):\n",
    "        self.head = None\n",
    "    def insert_after_node(self,prev_node,data):\n",
    "        if prev_node is None:\n",
    "            print(\"The given node is absent\")\n",
    "        node = Node(data)\n",
    "        node.next = prev_node.next\n",
    "        prev_node.next = node\n",
    "    \n",
    "    def insert_at_begin(self,data):\n",
    "        node= Node(data,self.head)\n",
    "        self.head = node\n",
    "        \n",
    "    def insert_at_end(self,data):\n",
    "        \n",
    "        \n",
    "        if self.head is  None:\n",
    "            self.head = Node(data,None)\n",
    "            return\n",
    "        \n",
    "        last = self.head\n",
    "        while(last.next):\n",
    "            last = last.next\n",
    "        last.next = Node(data,None)\n",
    "    \n",
    "    def insert_list(self,data_list):\n",
    "        self.head = None\n",
    "        for data in data_list:\n",
    "            self.insert_at_end(data)\n",
    "            \n",
    "    def get_length(self):\n",
    "        count =0\n",
    "        itr = self.head\n",
    "        while itr:\n",
    "            count +=1\n",
    "            itr = itr.next\n",
    "        return count\n",
    "    \n",
    "    def print(self):\n",
    "        itr = self.head\n",
    "        listr  = ''\n",
    "        \n",
    "        while itr:\n",
    "            listr += str(itr.data)+'-->'\n",
    "            itr = itr.next\n",
    "        print(listr)\n",
    "            \n",
    "        "
   ]
  },
  {
   "cell_type": "code",
   "execution_count": 9,
   "metadata": {},
   "outputs": [
    {
     "name": "stdout",
     "output_type": "stream",
     "text": [
      "banana-->apple-->orange-->mango-->\n",
      "Length of the linked list 4\n"
     ]
    }
   ],
   "source": [
    "\n",
    "ll = LinkedList()\n",
    "ll.insert_list([\"banana\",\"apple\",\"orange\",\"mango\"])\n",
    "ll.print()\n",
    "print(\"Length of the linked list\",ll.get_length())"
   ]
  },
  {
   "cell_type": "code",
   "execution_count": null,
   "metadata": {},
   "outputs": [],
   "source": []
  },
  {
   "cell_type": "markdown",
   "metadata": {},
   "source": [
    "## Remove an element at index  and insert at index"
   ]
  },
  {
   "cell_type": "code",
   "execution_count": 25,
   "metadata": {},
   "outputs": [],
   "source": [
    "class Node:\n",
    "    def __init__(self,data = None,next = None):\n",
    "        self.data = data\n",
    "        self.next = next\n",
    "class LinkedList:\n",
    "    def __init__(self):\n",
    "        self.head = None\n",
    "    def insert_at_end(self,data):\n",
    "        \n",
    "        \n",
    "        if self.head is  None:\n",
    "            self.head = Node(data,None)\n",
    "            return\n",
    "        \n",
    "        last = self.head\n",
    "        while(last.next):\n",
    "            last = last.next\n",
    "        last.next = Node(data,None)\n",
    "    \n",
    "    def insert_list(self,data_list):\n",
    "        self.head = None\n",
    "        for data in data_list:\n",
    "            self.insert_at_end(data)\n",
    "    \n",
    "    \n",
    "            \n",
    "    def get_length(self):\n",
    "        count =0\n",
    "        itr = self.head\n",
    "        while itr:\n",
    "            count +=1\n",
    "            itr = itr.next\n",
    "        return count\n",
    "    \n",
    "    def print(self):\n",
    "        itr = self.head\n",
    "        listr  = ''\n",
    "        \n",
    "        while itr:\n",
    "            listr += str(itr.data)+'-->'\n",
    "            itr = itr.next\n",
    "        print(listr)\n",
    "    \n",
    "    def remove_at(self,n):\n",
    "        itr = self.head\n",
    "        index = 0\n",
    "        while itr:\n",
    "            if n<0 or n>self.get_length():\n",
    "                raise Exception(\"Invalid index\")\n",
    "            if n == 0:\n",
    "                self.head = self.head.next\n",
    "                return\n",
    "            if index == n-1:\n",
    "                itr.next = itr.next.next\n",
    "                break\n",
    "            itr = itr.next\n",
    "            index +=1\n",
    "    def insert_at(self,data,n):\n",
    "        if n ==0:\n",
    "            self.head = Node(data,None)\n",
    "        if n<0 or n> self.get_length():\n",
    "            raise Exception (\"Invalid Index\")\n",
    "        index = 0\n",
    "        itr = self.head\n",
    "        while itr:\n",
    "            if index == n-1:\n",
    "                node = Node(data,itr.next)\n",
    "                itr.next = node\n",
    "                break\n",
    "            \n",
    "            index +=1    \n",
    "            itr = itr.next\n",
    "            "
   ]
  },
  {
   "cell_type": "code",
   "execution_count": 26,
   "metadata": {
    "scrolled": true
   },
   "outputs": [
    {
     "name": "stdout",
     "output_type": "stream",
     "text": [
      "banana-->apple-->orange-->mango-->\n",
      "banana-->apple-->mango-->\n",
      "banana-->apple-->grapes-->mango-->\n"
     ]
    }
   ],
   "source": [
    "\n",
    "ll = LinkedList()\n",
    "ll.insert_list([\"banana\",\"apple\",\"orange\",\"mango\"])\n",
    "ll.print()\n",
    "ll.remove_at(2)\n",
    "ll.print()\n",
    "ll.insert_at(\"grapes\",2)\n",
    "ll.print()"
   ]
  },
  {
   "cell_type": "markdown",
   "metadata": {},
   "source": [
    "## FIND an nth element from the end of the node"
   ]
  },
  {
   "cell_type": "code",
   "execution_count": 14,
   "metadata": {},
   "outputs": [],
   "source": [
    "class Node:\n",
    "    def __init__(self,data,next):\n",
    "        self.data = data\n",
    "        self.next = next\n",
    "class LinkedList:\n",
    "    def __init__(self):\n",
    "        self.head = None\n",
    "    '''\n",
    "    CODE TO BE NOTED\n",
    "    ---------------------------------------------\n",
    "    '''\n",
    "    def find_n(self,n):\n",
    "        ptemp = self.head\n",
    "        pNthnode = self.head\n",
    "        count  = 0\n",
    "        while ptemp:\n",
    "            ptemp = ptemp.next\n",
    "            if count >= n:\n",
    "                pNthnode = pNthnode.next\n",
    "            count +=1\n",
    "        print(pNthnode.data,count)\n",
    "    '''\n",
    "    ----------------------------------------------\n",
    "    \n",
    "    '''\n",
    "\n",
    "    def insert_at_end(self,data):\n",
    "        \n",
    "        if self.head is  None:\n",
    "            self.head = Node(data,None)\n",
    "            return\n",
    "        \n",
    "        last = self.head\n",
    "        while(last.next):\n",
    "            last = last.next\n",
    "        last.next = Node(data,None)\n",
    "        \n",
    "    def insert_list(self,data_list):\n",
    "        self.head = None\n",
    "        for data in data_list:\n",
    "            self.insert_at_end(data)\n",
    "    \n",
    "    \n",
    "            \n",
    "    \n",
    "    def print(self):\n",
    "        itr = self.head\n",
    "        listr  = ''\n",
    "        \n",
    "        while itr:\n",
    "            listr += str(itr.data)+'-->'\n",
    "            itr = itr.next\n",
    "        print(listr)"
   ]
  },
  {
   "cell_type": "code",
   "execution_count": 15,
   "metadata": {},
   "outputs": [
    {
     "name": "stdout",
     "output_type": "stream",
     "text": [
      "banana-->apple-->orange-->mango-->\n",
      "apple 4\n"
     ]
    }
   ],
   "source": [
    "ll = LinkedList()\n",
    "ll.insert_list([\"banana\",\"apple\",\"orange\",\"mango\"])\n",
    "ll.print()\n",
    "ll.find_n(3) #from the end"
   ]
  },
  {
   "cell_type": "markdown",
   "metadata": {},
   "source": [
    "## Find whether the Linked List is circular or not"
   ]
  },
  {
   "cell_type": "code",
   "execution_count": null,
   "metadata": {},
   "outputs": [],
   "source": [
    "class Node:\n",
    "    def __init__(self,data,next):\n",
    "        self.data = data\n",
    "        self.next = next\n",
    "class LinkedList:\n",
    "    def __init__(self):\n",
    "        self.head = None\n",
    "        \n",
    "    def insert_at_end(self,data):\n",
    "        \n",
    "        if self.head is  None:\n",
    "            self.head = Node(data,None)\n",
    "            return\n",
    "        \n",
    "        last = self.head\n",
    "        while(last.next):\n",
    "            last = last.next\n",
    "        last.next = Node(data,None)\n",
    "    \n",
    "    def is_circular(self,head):\n",
    "        itr  = self.head\n",
    "        while itr:\n",
    "            if itr.next == head\n",
    "            itr = itr.next\n",
    "            "
   ]
  },
  {
   "cell_type": "markdown",
   "metadata": {},
   "source": [
    "## Reverse the linked list"
   ]
  },
  {
   "cell_type": "code",
   "execution_count": 22,
   "metadata": {},
   "outputs": [],
   "source": [
    "class Node:\n",
    "    def __init__(self,data,next):\n",
    "        self.data = data\n",
    "        self.next = next\n",
    "class LinkedList:\n",
    "    def __init__(self):\n",
    "        self.head = None\n",
    "        \n",
    "    def reverse_ll(self):\n",
    "        \n",
    "        prev = None\n",
    "        next = None\n",
    "        head = self.head\n",
    "        print(head.data)\n",
    "        while head:\n",
    "            \n",
    "            next = head.next\n",
    "            head.next = prev\n",
    "            prev = head\n",
    "            head = head.next\n",
    "            print(prev,head,next)\n",
    "        head = prev\n",
    "        print(head.data)\n",
    "            \n",
    "        \n",
    "    def insert_at_end(self,data):\n",
    "        \n",
    "        if self.head is  None:\n",
    "            self.head = Node(data,None)\n",
    "            return\n",
    "        \n",
    "        last = self.head\n",
    "        while(last.next):\n",
    "            last = last.next\n",
    "        last.next = Node(data,None)\n",
    "    def insert_list(self,data_list):\n",
    "        self.head = None\n",
    "        for data in data_list:\n",
    "            self.insert_at_end(data)\n",
    "    \n",
    "    \n",
    "            \n",
    "    \n",
    "    def print(self):\n",
    "        itr = self.head\n",
    "        listr  = ''\n",
    "        \n",
    "        while itr:\n",
    "            listr += str(itr.data)+'-->'\n",
    "            itr = itr.next\n",
    "        print(listr)"
   ]
  },
  {
   "cell_type": "code",
   "execution_count": 23,
   "metadata": {},
   "outputs": [
    {
     "name": "stdout",
     "output_type": "stream",
     "text": [
      "banana-->apple-->orange-->mango-->\n",
      "banana\n",
      "<__main__.Node object at 0x000002CCE3C58E10> None <__main__.Node object at 0x000002CCE3C58EB8>\n",
      "banana\n",
      "banana-->\n"
     ]
    }
   ],
   "source": [
    "ll = LinkedList()\n",
    "ll.insert_list([\"banana\",\"apple\",\"orange\",\"mango\"])\n",
    "ll.print()\n",
    "ll.reverse_ll()\n",
    "ll.print()"
   ]
  },
  {
   "cell_type": "code",
   "execution_count": null,
   "metadata": {},
   "outputs": [],
   "source": []
  },
  {
   "cell_type": "code",
   "execution_count": null,
   "metadata": {},
   "outputs": [],
   "source": []
  }
 ],
 "metadata": {
  "kernelspec": {
   "display_name": "Python 3",
   "language": "python",
   "name": "python3"
  },
  "language_info": {
   "codemirror_mode": {
    "name": "ipython",
    "version": 3
   },
   "file_extension": ".py",
   "mimetype": "text/x-python",
   "name": "python",
   "nbconvert_exporter": "python",
   "pygments_lexer": "ipython3",
   "version": "3.7.3"
  }
 },
 "nbformat": 4,
 "nbformat_minor": 2
}
